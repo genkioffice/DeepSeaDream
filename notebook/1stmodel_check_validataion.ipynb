{
 "cells": [
  {
   "cell_type": "code",
   "execution_count": 1,
   "metadata": {},
   "outputs": [],
   "source": [
    "import numpy as np\n",
    "import pandas as pd\n",
    "import matplotlib\n",
    "import matplotlib.pyplot as plt\n",
    "import tensorflow as tf\n",
    "import sys"
   ]
  },
  {
   "cell_type": "code",
   "execution_count": 2,
   "metadata": {},
   "outputs": [],
   "source": [
    "PATH = \"../data/data/train_fish/\"\n",
    "# path devided into kinds of image\n",
    "ALB = \"ALB\"\n",
    "BET = \"BET\"\n",
    "DOL = \"DOL\"\n",
    "LAG = \"LAG\"\n",
    "NoF = \"NoF\"\n",
    "OTHER = \"OTHER\"\n",
    "SHARK = \"SHARK\"\n",
    "YFT = \"YFT\"\n",
    "FISH_CLASSES = ['ALB', 'BET', 'DOL', 'LAG', 'NoF', 'OTHER', 'SHARK', 'YFT']\n",
    "channnels=3"
   ]
  },
  {
   "cell_type": "markdown",
   "metadata": {},
   "source": [
    "## データ"
   ]
  },
  {
   "cell_type": "markdown",
   "metadata": {},
   "source": [
    "データはディレクトリごとに別れていて、合計で3777枚ある。"
   ]
  },
  {
   "cell_type": "code",
   "execution_count": 3,
   "metadata": {},
   "outputs": [],
   "source": [
    "import os\n",
    "for path, di, file  in os.walk(PATH):\n",
    "    CLASS = di\n",
    "    break\n",
    "NUM_CLASSES = len(CLASS)\n",
    "# IMAGE_SIZE = 256\n",
    "IMAGE_SIZE = 32\n",
    "IMAGE_PIXELS = IMAGE_SIZE*IMAGE_SIZE*3\n",
    "\n",
    "\n",
    "learning_rate = 1e-4\n",
    "max_steps = 120\n",
    "BATCH_SIZE = 100"
   ]
  },
  {
   "cell_type": "code",
   "execution_count": 4,
   "metadata": {},
   "outputs": [],
   "source": [
    "# これらコードは、http://kivantium.hateblo.jp/entry/2015/11/18/233834から得られる\n",
    "def inference(images_placeholder,keep_prob):\n",
    "    def weight_variable(shape):\n",
    "        initial = tf.truncated_normal(shape,stddev=0.1)\n",
    "        return tf.Variable(initial)\n",
    "    def bias_variable(shape):\n",
    "        initial = tf.constant(0.1,shape=shape)\n",
    "        return tf.Variable(initial)\n",
    "    def conv2d(x,W):\n",
    "        return tf.nn.conv2d(x,W,[1,1,1,1],padding='SAME')\n",
    "    def max_pool_2x2(x):\n",
    "        return tf.nn.max_pool(x,ksize=[1,2,2,1],strides=[1,2,2,1],padding='SAME')\n",
    "\n",
    "#     x_image = tf.reshape(images_placeholder,[-1,256,256,3])\n",
    "    x_image = tf.reshape(images_placeholder,[-1,IMAGE_SIZE,IMAGE_SIZE,3])\n",
    "    #  32 * 32 * 3 tensorへ変換する\n",
    "\n",
    "    with tf.name_scope('conv1') as scope:\n",
    "        W_conv1 = weight_variable([5,5,3,32])\n",
    "        b_conv1 = bias_variable([32])\n",
    "        h_conv1 = tf.nn.relu(conv2d(x_image,W_conv1) + b_conv1)\n",
    "\n",
    "    with tf.name_scope('pool1') as scope:\n",
    "        h_pool1 = max_pool_2x2(h_conv1)\n",
    "        \n",
    "    with tf.name_scope('conv2') as scope:\n",
    "        W_conv2 = weight_variable([5,5,32,64])\n",
    "        b_conv2 = bias_variable([64])\n",
    "        h_conv2 = tf.nn.relu(conv2d(h_pool1,W_conv2) + b_conv2)\n",
    "        \n",
    "    with tf.name_scope('pool2') as scope:\n",
    "        h_pool2 = max_pool_2x2(h_conv2)\n",
    "        # h_pool2 has (?, 64, 64, 64) shape\n",
    "    #全結合\n",
    "    with tf.name_scope('zenketsu1') as scope:\n",
    "#         W_fc1 = weight_variable([64*64*64,1024])\n",
    "        W_fc1 = weight_variable([64*64*1,1024])\n",
    "        b_fc1 = bias_variable([1024])\n",
    "#         h_pool2_flat = tf.reshape(h_pool2,[-1,64*64*64]) #3136 defined here\n",
    "        h_pool2_flat = tf.reshape(h_pool2,[-1,64*64*1]) #3136 defined here\n",
    "        \n",
    "        h_fc1 = tf.nn.relu(tf.matmul(h_pool2_flat,W_fc1) + b_fc1)\n",
    "        #dropout\n",
    "        h_fc1_drop = tf.nn.dropout(h_fc1,keep_prob)\n",
    "        \n",
    "    with tf.name_scope('zenketsu2') as scope:\n",
    "        W_fc2 = weight_variable([1024,NUM_CLASSES])\n",
    "        b_fc2 = bias_variable([NUM_CLASSES])\n",
    "    \n",
    "    with tf.name_scope('softmax') as scope:\n",
    "        y_conv = tf.nn.softmax(tf.matmul(h_fc1_drop,W_fc2) + b_fc2)\n",
    "    \n",
    "    return y_conv"
   ]
  },
  {
   "cell_type": "code",
   "execution_count": 5,
   "metadata": {},
   "outputs": [],
   "source": [
    "def loss(logits,labels):\n",
    "    cross_entropy = -tf.reduce_sum(labels*tf.log(logits))\n",
    "#     tf.scalar_summary(\"cross_entropy\",cross_entropy)\n",
    "    return cross_entropy"
   ]
  },
  {
   "cell_type": "code",
   "execution_count": 6,
   "metadata": {},
   "outputs": [],
   "source": [
    "def training(loss,learning_rate):\n",
    "    train_step = tf.train.AdadeltaOptimizer(learning_rate).minimize(loss)\n",
    "    return train_step"
   ]
  },
  {
   "cell_type": "code",
   "execution_count": 7,
   "metadata": {},
   "outputs": [],
   "source": [
    "# file load\n",
    "def load_files(path):\n",
    "    data = []\n",
    "    save_pa = []\n",
    "    for pa,_,_ in os.walk(path):\n",
    "        if pa =='../data/data/train_fish/':\n",
    "            continue\n",
    "        save_pa.append(pa)\n",
    "    for i_c, cat in enumerate(save_pa):\n",
    "        for _,_,files in os.walk(cat):\n",
    "            for file in files:\n",
    "                label = np.zeros(8)\n",
    "                label[i_c] = 1\n",
    "                filepath = os.path.join(cat,file)\n",
    "                data.append([filepath,label])\n",
    "    return data\n",
    "DATA = load_files(PATH)\n",
    "import csv\n",
    "with open(\"../data/meta.csv\",'w') as f:\n",
    "    writer = csv.writer(f,lineterminator='\\n')\n",
    "    writer.writerow(DATA)"
   ]
  },
  {
   "cell_type": "markdown",
   "metadata": {},
   "source": [
    "使用しているデータの頻度を掛けないといけないかも。それ以外の解放だと、入れたデータについて、albが出る確率が0.5以上であるかどうか。"
   ]
  },
  {
   "cell_type": "code",
   "execution_count": 8,
   "metadata": {
    "scrolled": true
   },
   "outputs": [
    {
     "data": {
      "text/plain": [
       "['../data/data/train_fish/NoF/img_04395.jpg',\n",
       " array([1., 0., 0., 0., 0., 0., 0., 0.])]"
      ]
     },
     "execution_count": 8,
     "metadata": {},
     "output_type": "execute_result"
    }
   ],
   "source": [
    "DATA[0]"
   ]
  },
  {
   "cell_type": "code",
   "execution_count": 44,
   "metadata": {},
   "outputs": [
    {
     "data": {
      "text/plain": [
       "[['../data/data/train_fish/YFT/img_01472.jpg',\n",
       "  array([0., 0., 0., 0., 0., 0., 1., 0.])],\n",
       " ['../data/data/train_fish/LAG/img_06223.jpg',\n",
       "  array([0., 0., 0., 0., 0., 1., 0., 0.])],\n",
       " ['../data/data/train_fish/BET/img_07519.jpg',\n",
       "  array([0., 0., 0., 0., 1., 0., 0., 0.])],\n",
       " ['../data/data/train_fish/BET/img_05344.jpg',\n",
       "  array([0., 0., 0., 0., 1., 0., 0., 0.])],\n",
       " ['../data/data/train_fish/BET/img_02168.jpg',\n",
       "  array([0., 0., 0., 0., 1., 0., 0., 0.])],\n",
       " ['../data/data/train_fish/ALB/img_01520.jpg',\n",
       "  array([0., 0., 1., 0., 0., 0., 0., 0.])],\n",
       " ['../data/data/train_fish/ALB/img_07868.jpg',\n",
       "  array([0., 0., 1., 0., 0., 0., 0., 0.])],\n",
       " ['../data/data/train_fish/ALB/img_06185.jpg',\n",
       "  array([0., 0., 1., 0., 0., 0., 0., 0.])],\n",
       " ['../data/data/train_fish/ALB/img_02542.jpg',\n",
       "  array([0., 0., 1., 0., 0., 0., 0., 0.])],\n",
       " ['../data/data/train_fish/NoF/img_02323.jpg',\n",
       "  array([1., 0., 0., 0., 0., 0., 0., 0.])]]"
      ]
     },
     "execution_count": 44,
     "metadata": {},
     "output_type": "execute_result"
    }
   ],
   "source": [
    "DATA[0:10]"
   ]
  },
  {
   "cell_type": "code",
   "execution_count": 9,
   "metadata": {
    "scrolled": true
   },
   "outputs": [
    {
     "data": {
      "text/plain": [
       "3777"
      ]
     },
     "execution_count": 9,
     "metadata": {},
     "output_type": "execute_result"
    }
   ],
   "source": [
    "len(DATA)"
   ]
  },
  {
   "cell_type": "markdown",
   "metadata": {},
   "source": [
    "精度が0.11で固定されていたので、学習量不足と判断し、データ数を増やした。"
   ]
  },
  {
   "cell_type": "code",
   "execution_count": 42,
   "metadata": {},
   "outputs": [],
   "source": [
    "def take(data,num):\n",
    "    reserved = []\n",
    "    for v in data:\n",
    "        if np.argmax(v[1]) == num:\n",
    "            reserved.append(v)\n",
    "    return reserved"
   ]
  },
  {
   "cell_type": "code",
   "execution_count": 11,
   "metadata": {},
   "outputs": [],
   "source": [
    "def accuracy(logits,labels):\n",
    "    correct_prediction = tf.equal(tf.argmax(logits,1),tf.argmax(labels,1))\n",
    "    accuracy = tf.reduce_mean(tf.cast(correct_prediction,\"float\"))\n",
    "    return accuracy\n",
    "def split_image_and_label(data_list,LESS=False):\n",
    "    '''\n",
    "    data_list should be [[data,label]...]\n",
    "    '''\n",
    "    data = []\n",
    "    labels = []\n",
    "    if LESS:\n",
    "        i=0\n",
    "        for value,label in data_list:\n",
    "            i+=1\n",
    "            data.append(value)\n",
    "            labels.append(label)\n",
    "            if i == 1000:\n",
    "                break\n",
    "        return data,labels\n",
    "    else:\n",
    "        for value,label in data_list:\n",
    "            data.append(value)\n",
    "            labels.append(label)\n",
    "        return data, labels"
   ]
  },
  {
   "cell_type": "code",
   "execution_count": 12,
   "metadata": {},
   "outputs": [],
   "source": [
    "# opnecvによる読み込み\n",
    "import cv2 \n",
    "def convert_image_path_to_data_cv2(path,i):\n",
    "    try:\n",
    "#         img2 = cv2.imread(path,0) # 白黒画像で読み込み\n",
    "        img2 = cv2.imread(path)\n",
    "\n",
    "        img2 = cv2.resize(img2,dsize=(IMAGE_SIZE,IMAGE_SIZE),interpolation = cv2.INTER_CUBIC)\n",
    "        np_image_data = np.asarray(img2)\n",
    "        np_final = np.expand_dims(np_image_data,axis=0)\n",
    "        np_final = flatten(np_final)\n",
    "        if i % 1000 == 0:\n",
    "            print(i)\n",
    "        #1000 images / 15s\n",
    "        return np_final\n",
    "    except:\n",
    "        print(path)\n",
    "        print(i)\n",
    "        return np.zeros([256,256])"
   ]
  },
  {
   "cell_type": "code",
   "execution_count": 13,
   "metadata": {},
   "outputs": [],
   "source": [
    "def flatten(image):\n",
    "    image = image.flatten().astype(np.float32)/255.0\n",
    "    return image"
   ]
  },
  {
   "cell_type": "code",
   "execution_count": 45,
   "metadata": {},
   "outputs": [],
   "source": [
    "import random\n",
    "random.shuffle(DATA)\n",
    "num_train = int(len(DATA) * 0.8)\n",
    "train = DATA[:num_train]\n",
    "test = DATA[num_train:]\n",
    "\n",
    "test = take(test,2)"
   ]
  },
  {
   "cell_type": "code",
   "execution_count": 46,
   "metadata": {},
   "outputs": [
    {
     "data": {
      "text/plain": [
       "[['../data/data/train_fish/ALB/img_04755.jpg',\n",
       "  array([0., 0., 1., 0., 0., 0., 0., 0.])],\n",
       " ['../data/data/train_fish/ALB/img_00269.jpg',\n",
       "  array([0., 0., 1., 0., 0., 0., 0., 0.])],\n",
       " ['../data/data/train_fish/ALB/img_07576.jpg',\n",
       "  array([0., 0., 1., 0., 0., 0., 0., 0.])],\n",
       " ['../data/data/train_fish/ALB/img_00526.jpg',\n",
       "  array([0., 0., 1., 0., 0., 0., 0., 0.])],\n",
       " ['../data/data/train_fish/ALB/img_07863.jpg',\n",
       "  array([0., 0., 1., 0., 0., 0., 0., 0.])],\n",
       " ['../data/data/train_fish/ALB/img_07811.jpg',\n",
       "  array([0., 0., 1., 0., 0., 0., 0., 0.])],\n",
       " ['../data/data/train_fish/ALB/img_05443.jpg',\n",
       "  array([0., 0., 1., 0., 0., 0., 0., 0.])],\n",
       " ['../data/data/train_fish/ALB/img_07459.jpg',\n",
       "  array([0., 0., 1., 0., 0., 0., 0., 0.])],\n",
       " ['../data/data/train_fish/ALB/img_00975.jpg',\n",
       "  array([0., 0., 1., 0., 0., 0., 0., 0.])],\n",
       " ['../data/data/train_fish/ALB/img_03524.jpg',\n",
       "  array([0., 0., 1., 0., 0., 0., 0., 0.])]]"
      ]
     },
     "execution_count": 46,
     "metadata": {},
     "output_type": "execute_result"
    }
   ],
   "source": [
    "test[0:10]"
   ]
  },
  {
   "cell_type": "code",
   "execution_count": 47,
   "metadata": {},
   "outputs": [
    {
     "name": "stdout",
     "output_type": "stream",
     "text": [
      "0\n"
     ]
    }
   ],
   "source": [
    "test_image,test_label = split_image_and_label(test,False) \n",
    "test_image = [convert_image_path_to_data_cv2(path,i) for i,path in enumerate(test_image)]"
   ]
  },
  {
   "cell_type": "code",
   "execution_count": 63,
   "metadata": {
    "scrolled": false
   },
   "outputs": [
    {
     "name": "stdout",
     "output_type": "stream",
     "text": [
      "restoring\n",
      "INFO:tensorflow:Restoring parameters from ../data/model/model.ckpt\n",
      "model restored.\n"
     ]
    },
    {
     "ename": "FailedPreconditionError",
     "evalue": "Attempting to use uninitialized value conv2_423/Variable\n\t [[node conv2_423/Variable/read (defined at <ipython-input-4-3ee9635687e4>:5)  = Identity[T=DT_FLOAT, _device=\"/job:localhost/replica:0/task:0/device:CPU:0\"](conv2_423/Variable)]]\n\nCaused by op 'conv2_423/Variable/read', defined at:\n  File \"/home/genki/yes/lib/python3.6/runpy.py\", line 193, in _run_module_as_main\n    \"__main__\", mod_spec)\n  File \"/home/genki/yes/lib/python3.6/runpy.py\", line 85, in _run_code\n    exec(code, run_globals)\n  File \"/home/genki/yes/lib/python3.6/site-packages/ipykernel_launcher.py\", line 16, in <module>\n    app.launch_new_instance()\n  File \"/home/genki/yes/lib/python3.6/site-packages/traitlets/config/application.py\", line 658, in launch_instance\n    app.start()\n  File \"/home/genki/yes/lib/python3.6/site-packages/ipykernel/kernelapp.py\", line 505, in start\n    self.io_loop.start()\n  File \"/home/genki/yes/lib/python3.6/site-packages/tornado/platform/asyncio.py\", line 132, in start\n    self.asyncio_loop.run_forever()\n  File \"/home/genki/yes/lib/python3.6/asyncio/base_events.py\", line 422, in run_forever\n    self._run_once()\n  File \"/home/genki/yes/lib/python3.6/asyncio/base_events.py\", line 1434, in _run_once\n    handle._run()\n  File \"/home/genki/yes/lib/python3.6/asyncio/events.py\", line 145, in _run\n    self._callback(*self._args)\n  File \"/home/genki/yes/lib/python3.6/site-packages/tornado/ioloop.py\", line 758, in _run_callback\n    ret = callback()\n  File \"/home/genki/yes/lib/python3.6/site-packages/tornado/stack_context.py\", line 300, in null_wrapper\n    return fn(*args, **kwargs)\n  File \"/home/genki/yes/lib/python3.6/site-packages/tornado/gen.py\", line 1233, in inner\n    self.run()\n  File \"/home/genki/yes/lib/python3.6/site-packages/tornado/gen.py\", line 1147, in run\n    yielded = self.gen.send(value)\n  File \"/home/genki/yes/lib/python3.6/site-packages/ipykernel/kernelbase.py\", line 357, in process_one\n    yield gen.maybe_future(dispatch(*args))\n  File \"/home/genki/yes/lib/python3.6/site-packages/tornado/gen.py\", line 326, in wrapper\n    yielded = next(result)\n  File \"/home/genki/yes/lib/python3.6/site-packages/ipykernel/kernelbase.py\", line 267, in dispatch_shell\n    yield gen.maybe_future(handler(stream, idents, msg))\n  File \"/home/genki/yes/lib/python3.6/site-packages/tornado/gen.py\", line 326, in wrapper\n    yielded = next(result)\n  File \"/home/genki/yes/lib/python3.6/site-packages/ipykernel/kernelbase.py\", line 534, in execute_request\n    user_expressions, allow_stdin,\n  File \"/home/genki/yes/lib/python3.6/site-packages/tornado/gen.py\", line 326, in wrapper\n    yielded = next(result)\n  File \"/home/genki/yes/lib/python3.6/site-packages/ipykernel/ipkernel.py\", line 294, in do_execute\n    res = shell.run_cell(code, store_history=store_history, silent=silent)\n  File \"/home/genki/yes/lib/python3.6/site-packages/ipykernel/zmqshell.py\", line 536, in run_cell\n    return super(ZMQInteractiveShell, self).run_cell(*args, **kwargs)\n  File \"/home/genki/yes/lib/python3.6/site-packages/IPython/core/interactiveshell.py\", line 2819, in run_cell\n    raw_cell, store_history, silent, shell_futures)\n  File \"/home/genki/yes/lib/python3.6/site-packages/IPython/core/interactiveshell.py\", line 2845, in _run_cell\n    return runner(coro)\n  File \"/home/genki/yes/lib/python3.6/site-packages/IPython/core/async_helpers.py\", line 67, in _pseudo_sync_runner\n    coro.send(None)\n  File \"/home/genki/yes/lib/python3.6/site-packages/IPython/core/interactiveshell.py\", line 3020, in run_cell_async\n    interactivity=interactivity, compiler=compiler, result=result)\n  File \"/home/genki/yes/lib/python3.6/site-packages/IPython/core/interactiveshell.py\", line 3185, in run_ast_nodes\n    if (yield from self.run_code(code, result)):\n  File \"/home/genki/yes/lib/python3.6/site-packages/IPython/core/interactiveshell.py\", line 3267, in run_code\n    exec(code_obj, self.user_global_ns, self.user_ns)\n  File \"<ipython-input-63-c877d3b18fdd>\", line 20, in <module>\n    logits = inference(images_placeholder,keep_prob)\n  File \"<ipython-input-4-3ee9635687e4>\", line 27, in inference\n    W_conv2 = weight_variable([5,5,32,64])\n  File \"<ipython-input-4-3ee9635687e4>\", line 5, in weight_variable\n    return tf.Variable(initial)\n  File \"/home/genki/yes/lib/python3.6/site-packages/tensorflow/python/ops/variables.py\", line 183, in __call__\n    return cls._variable_v1_call(*args, **kwargs)\n  File \"/home/genki/yes/lib/python3.6/site-packages/tensorflow/python/ops/variables.py\", line 146, in _variable_v1_call\n    aggregation=aggregation)\n  File \"/home/genki/yes/lib/python3.6/site-packages/tensorflow/python/ops/variables.py\", line 125, in <lambda>\n    previous_getter = lambda **kwargs: default_variable_creator(None, **kwargs)\n  File \"/home/genki/yes/lib/python3.6/site-packages/tensorflow/python/ops/variable_scope.py\", line 2444, in default_variable_creator\n    expected_shape=expected_shape, import_scope=import_scope)\n  File \"/home/genki/yes/lib/python3.6/site-packages/tensorflow/python/ops/variables.py\", line 187, in __call__\n    return super(VariableMetaclass, cls).__call__(*args, **kwargs)\n  File \"/home/genki/yes/lib/python3.6/site-packages/tensorflow/python/ops/variables.py\", line 1329, in __init__\n    constraint=constraint)\n  File \"/home/genki/yes/lib/python3.6/site-packages/tensorflow/python/ops/variables.py\", line 1491, in _init_from_args\n    self._snapshot = array_ops.identity(self._variable, name=\"read\")\n  File \"/home/genki/yes/lib/python3.6/site-packages/tensorflow/python/ops/array_ops.py\", line 81, in identity\n    return gen_array_ops.identity(input, name=name)\n  File \"/home/genki/yes/lib/python3.6/site-packages/tensorflow/python/ops/gen_array_ops.py\", line 3454, in identity\n    \"Identity\", input=input, name=name)\n  File \"/home/genki/yes/lib/python3.6/site-packages/tensorflow/python/framework/op_def_library.py\", line 787, in _apply_op_helper\n    op_def=op_def)\n  File \"/home/genki/yes/lib/python3.6/site-packages/tensorflow/python/util/deprecation.py\", line 488, in new_func\n    return func(*args, **kwargs)\n  File \"/home/genki/yes/lib/python3.6/site-packages/tensorflow/python/framework/ops.py\", line 3274, in create_op\n    op_def=op_def)\n  File \"/home/genki/yes/lib/python3.6/site-packages/tensorflow/python/framework/ops.py\", line 1770, in __init__\n    self._traceback = tf_stack.extract_stack()\n\nFailedPreconditionError (see above for traceback): Attempting to use uninitialized value conv2_423/Variable\n\t [[node conv2_423/Variable/read (defined at <ipython-input-4-3ee9635687e4>:5)  = Identity[T=DT_FLOAT, _device=\"/job:localhost/replica:0/task:0/device:CPU:0\"](conv2_423/Variable)]]\n",
     "output_type": "error",
     "traceback": [
      "\u001b[0;31m---------------------------------------------------------------------------\u001b[0m",
      "\u001b[0;31mFailedPreconditionError\u001b[0m                   Traceback (most recent call last)",
      "\u001b[0;32m~/yes/lib/python3.6/site-packages/tensorflow/python/client/session.py\u001b[0m in \u001b[0;36m_do_call\u001b[0;34m(self, fn, *args)\u001b[0m\n\u001b[1;32m   1333\u001b[0m     \u001b[0;32mtry\u001b[0m\u001b[0;34m:\u001b[0m\u001b[0;34m\u001b[0m\u001b[0m\n\u001b[0;32m-> 1334\u001b[0;31m       \u001b[0;32mreturn\u001b[0m \u001b[0mfn\u001b[0m\u001b[0;34m(\u001b[0m\u001b[0;34m*\u001b[0m\u001b[0margs\u001b[0m\u001b[0;34m)\u001b[0m\u001b[0;34m\u001b[0m\u001b[0m\n\u001b[0m\u001b[1;32m   1335\u001b[0m     \u001b[0;32mexcept\u001b[0m \u001b[0merrors\u001b[0m\u001b[0;34m.\u001b[0m\u001b[0mOpError\u001b[0m \u001b[0;32mas\u001b[0m \u001b[0me\u001b[0m\u001b[0;34m:\u001b[0m\u001b[0;34m\u001b[0m\u001b[0m\n",
      "\u001b[0;32m~/yes/lib/python3.6/site-packages/tensorflow/python/client/session.py\u001b[0m in \u001b[0;36m_run_fn\u001b[0;34m(feed_dict, fetch_list, target_list, options, run_metadata)\u001b[0m\n\u001b[1;32m   1318\u001b[0m       return self._call_tf_sessionrun(\n\u001b[0;32m-> 1319\u001b[0;31m           options, feed_dict, fetch_list, target_list, run_metadata)\n\u001b[0m\u001b[1;32m   1320\u001b[0m \u001b[0;34m\u001b[0m\u001b[0m\n",
      "\u001b[0;32m~/yes/lib/python3.6/site-packages/tensorflow/python/client/session.py\u001b[0m in \u001b[0;36m_call_tf_sessionrun\u001b[0;34m(self, options, feed_dict, fetch_list, target_list, run_metadata)\u001b[0m\n\u001b[1;32m   1406\u001b[0m         \u001b[0mself\u001b[0m\u001b[0;34m.\u001b[0m\u001b[0m_session\u001b[0m\u001b[0;34m,\u001b[0m \u001b[0moptions\u001b[0m\u001b[0;34m,\u001b[0m \u001b[0mfeed_dict\u001b[0m\u001b[0;34m,\u001b[0m \u001b[0mfetch_list\u001b[0m\u001b[0;34m,\u001b[0m \u001b[0mtarget_list\u001b[0m\u001b[0;34m,\u001b[0m\u001b[0;34m\u001b[0m\u001b[0m\n\u001b[0;32m-> 1407\u001b[0;31m         run_metadata)\n\u001b[0m\u001b[1;32m   1408\u001b[0m \u001b[0;34m\u001b[0m\u001b[0m\n",
      "\u001b[0;31mFailedPreconditionError\u001b[0m: Attempting to use uninitialized value conv2_423/Variable\n\t [[{{node conv2_423/Variable/read}} = Identity[T=DT_FLOAT, _device=\"/job:localhost/replica:0/task:0/device:CPU:0\"](conv2_423/Variable)]]",
      "\nDuring handling of the above exception, another exception occurred:\n",
      "\u001b[0;31mFailedPreconditionError\u001b[0m                   Traceback (most recent call last)",
      "\u001b[0;32m<ipython-input-63-c877d3b18fdd>\u001b[0m in \u001b[0;36m<module>\u001b[0;34m\u001b[0m\n\u001b[1;32m     27\u001b[0m         \u001b[0mimages_placeholder\u001b[0m\u001b[0;34m:\u001b[0m \u001b[0mtest_image\u001b[0m\u001b[0;34m,\u001b[0m\u001b[0;34m\u001b[0m\u001b[0m\n\u001b[1;32m     28\u001b[0m         \u001b[0mlabels_placeholder\u001b[0m\u001b[0;34m:\u001b[0m \u001b[0mtest_label\u001b[0m\u001b[0;34m,\u001b[0m\u001b[0;34m\u001b[0m\u001b[0m\n\u001b[0;32m---> 29\u001b[0;31m         keep_prob: 1.0}))\n\u001b[0m\u001b[1;32m     30\u001b[0m \u001b[0;34m\u001b[0m\u001b[0m\n\u001b[1;32m     31\u001b[0m     \u001b[0mprint\u001b[0m\u001b[0;34m(\u001b[0m\u001b[0mtest_label\u001b[0m\u001b[0;34m[\u001b[0m\u001b[0mi\u001b[0m\u001b[0;34m]\u001b[0m\u001b[0;34m)\u001b[0m\u001b[0;34m\u001b[0m\u001b[0m\n",
      "\u001b[0;32m~/yes/lib/python3.6/site-packages/tensorflow/python/client/session.py\u001b[0m in \u001b[0;36mrun\u001b[0;34m(self, fetches, feed_dict, options, run_metadata)\u001b[0m\n\u001b[1;32m    927\u001b[0m     \u001b[0;32mtry\u001b[0m\u001b[0;34m:\u001b[0m\u001b[0;34m\u001b[0m\u001b[0m\n\u001b[1;32m    928\u001b[0m       result = self._run(None, fetches, feed_dict, options_ptr,\n\u001b[0;32m--> 929\u001b[0;31m                          run_metadata_ptr)\n\u001b[0m\u001b[1;32m    930\u001b[0m       \u001b[0;32mif\u001b[0m \u001b[0mrun_metadata\u001b[0m\u001b[0;34m:\u001b[0m\u001b[0;34m\u001b[0m\u001b[0m\n\u001b[1;32m    931\u001b[0m         \u001b[0mproto_data\u001b[0m \u001b[0;34m=\u001b[0m \u001b[0mtf_session\u001b[0m\u001b[0;34m.\u001b[0m\u001b[0mTF_GetBuffer\u001b[0m\u001b[0;34m(\u001b[0m\u001b[0mrun_metadata_ptr\u001b[0m\u001b[0;34m)\u001b[0m\u001b[0;34m\u001b[0m\u001b[0m\n",
      "\u001b[0;32m~/yes/lib/python3.6/site-packages/tensorflow/python/client/session.py\u001b[0m in \u001b[0;36m_run\u001b[0;34m(self, handle, fetches, feed_dict, options, run_metadata)\u001b[0m\n\u001b[1;32m   1150\u001b[0m     \u001b[0;32mif\u001b[0m \u001b[0mfinal_fetches\u001b[0m \u001b[0;32mor\u001b[0m \u001b[0mfinal_targets\u001b[0m \u001b[0;32mor\u001b[0m \u001b[0;34m(\u001b[0m\u001b[0mhandle\u001b[0m \u001b[0;32mand\u001b[0m \u001b[0mfeed_dict_tensor\u001b[0m\u001b[0;34m)\u001b[0m\u001b[0;34m:\u001b[0m\u001b[0;34m\u001b[0m\u001b[0m\n\u001b[1;32m   1151\u001b[0m       results = self._do_run(handle, final_targets, final_fetches,\n\u001b[0;32m-> 1152\u001b[0;31m                              feed_dict_tensor, options, run_metadata)\n\u001b[0m\u001b[1;32m   1153\u001b[0m     \u001b[0;32melse\u001b[0m\u001b[0;34m:\u001b[0m\u001b[0;34m\u001b[0m\u001b[0m\n\u001b[1;32m   1154\u001b[0m       \u001b[0mresults\u001b[0m \u001b[0;34m=\u001b[0m \u001b[0;34m[\u001b[0m\u001b[0;34m]\u001b[0m\u001b[0;34m\u001b[0m\u001b[0m\n",
      "\u001b[0;32m~/yes/lib/python3.6/site-packages/tensorflow/python/client/session.py\u001b[0m in \u001b[0;36m_do_run\u001b[0;34m(self, handle, target_list, fetch_list, feed_dict, options, run_metadata)\u001b[0m\n\u001b[1;32m   1326\u001b[0m     \u001b[0;32mif\u001b[0m \u001b[0mhandle\u001b[0m \u001b[0;32mis\u001b[0m \u001b[0;32mNone\u001b[0m\u001b[0;34m:\u001b[0m\u001b[0;34m\u001b[0m\u001b[0m\n\u001b[1;32m   1327\u001b[0m       return self._do_call(_run_fn, feeds, fetches, targets, options,\n\u001b[0;32m-> 1328\u001b[0;31m                            run_metadata)\n\u001b[0m\u001b[1;32m   1329\u001b[0m     \u001b[0;32melse\u001b[0m\u001b[0;34m:\u001b[0m\u001b[0;34m\u001b[0m\u001b[0m\n\u001b[1;32m   1330\u001b[0m       \u001b[0;32mreturn\u001b[0m \u001b[0mself\u001b[0m\u001b[0;34m.\u001b[0m\u001b[0m_do_call\u001b[0m\u001b[0;34m(\u001b[0m\u001b[0m_prun_fn\u001b[0m\u001b[0;34m,\u001b[0m \u001b[0mhandle\u001b[0m\u001b[0;34m,\u001b[0m \u001b[0mfeeds\u001b[0m\u001b[0;34m,\u001b[0m \u001b[0mfetches\u001b[0m\u001b[0;34m)\u001b[0m\u001b[0;34m\u001b[0m\u001b[0m\n",
      "\u001b[0;32m~/yes/lib/python3.6/site-packages/tensorflow/python/client/session.py\u001b[0m in \u001b[0;36m_do_call\u001b[0;34m(self, fn, *args)\u001b[0m\n\u001b[1;32m   1346\u001b[0m           \u001b[0;32mpass\u001b[0m\u001b[0;34m\u001b[0m\u001b[0m\n\u001b[1;32m   1347\u001b[0m       \u001b[0mmessage\u001b[0m \u001b[0;34m=\u001b[0m \u001b[0merror_interpolation\u001b[0m\u001b[0;34m.\u001b[0m\u001b[0minterpolate\u001b[0m\u001b[0;34m(\u001b[0m\u001b[0mmessage\u001b[0m\u001b[0;34m,\u001b[0m \u001b[0mself\u001b[0m\u001b[0;34m.\u001b[0m\u001b[0m_graph\u001b[0m\u001b[0;34m)\u001b[0m\u001b[0;34m\u001b[0m\u001b[0m\n\u001b[0;32m-> 1348\u001b[0;31m       \u001b[0;32mraise\u001b[0m \u001b[0mtype\u001b[0m\u001b[0;34m(\u001b[0m\u001b[0me\u001b[0m\u001b[0;34m)\u001b[0m\u001b[0;34m(\u001b[0m\u001b[0mnode_def\u001b[0m\u001b[0;34m,\u001b[0m \u001b[0mop\u001b[0m\u001b[0;34m,\u001b[0m \u001b[0mmessage\u001b[0m\u001b[0;34m)\u001b[0m\u001b[0;34m\u001b[0m\u001b[0m\n\u001b[0m\u001b[1;32m   1349\u001b[0m \u001b[0;34m\u001b[0m\u001b[0m\n\u001b[1;32m   1350\u001b[0m   \u001b[0;32mdef\u001b[0m \u001b[0m_extend_graph\u001b[0m\u001b[0;34m(\u001b[0m\u001b[0mself\u001b[0m\u001b[0;34m)\u001b[0m\u001b[0;34m:\u001b[0m\u001b[0;34m\u001b[0m\u001b[0m\n",
      "\u001b[0;31mFailedPreconditionError\u001b[0m: Attempting to use uninitialized value conv2_423/Variable\n\t [[node conv2_423/Variable/read (defined at <ipython-input-4-3ee9635687e4>:5)  = Identity[T=DT_FLOAT, _device=\"/job:localhost/replica:0/task:0/device:CPU:0\"](conv2_423/Variable)]]\n\nCaused by op 'conv2_423/Variable/read', defined at:\n  File \"/home/genki/yes/lib/python3.6/runpy.py\", line 193, in _run_module_as_main\n    \"__main__\", mod_spec)\n  File \"/home/genki/yes/lib/python3.6/runpy.py\", line 85, in _run_code\n    exec(code, run_globals)\n  File \"/home/genki/yes/lib/python3.6/site-packages/ipykernel_launcher.py\", line 16, in <module>\n    app.launch_new_instance()\n  File \"/home/genki/yes/lib/python3.6/site-packages/traitlets/config/application.py\", line 658, in launch_instance\n    app.start()\n  File \"/home/genki/yes/lib/python3.6/site-packages/ipykernel/kernelapp.py\", line 505, in start\n    self.io_loop.start()\n  File \"/home/genki/yes/lib/python3.6/site-packages/tornado/platform/asyncio.py\", line 132, in start\n    self.asyncio_loop.run_forever()\n  File \"/home/genki/yes/lib/python3.6/asyncio/base_events.py\", line 422, in run_forever\n    self._run_once()\n  File \"/home/genki/yes/lib/python3.6/asyncio/base_events.py\", line 1434, in _run_once\n    handle._run()\n  File \"/home/genki/yes/lib/python3.6/asyncio/events.py\", line 145, in _run\n    self._callback(*self._args)\n  File \"/home/genki/yes/lib/python3.6/site-packages/tornado/ioloop.py\", line 758, in _run_callback\n    ret = callback()\n  File \"/home/genki/yes/lib/python3.6/site-packages/tornado/stack_context.py\", line 300, in null_wrapper\n    return fn(*args, **kwargs)\n  File \"/home/genki/yes/lib/python3.6/site-packages/tornado/gen.py\", line 1233, in inner\n    self.run()\n  File \"/home/genki/yes/lib/python3.6/site-packages/tornado/gen.py\", line 1147, in run\n    yielded = self.gen.send(value)\n  File \"/home/genki/yes/lib/python3.6/site-packages/ipykernel/kernelbase.py\", line 357, in process_one\n    yield gen.maybe_future(dispatch(*args))\n  File \"/home/genki/yes/lib/python3.6/site-packages/tornado/gen.py\", line 326, in wrapper\n    yielded = next(result)\n  File \"/home/genki/yes/lib/python3.6/site-packages/ipykernel/kernelbase.py\", line 267, in dispatch_shell\n    yield gen.maybe_future(handler(stream, idents, msg))\n  File \"/home/genki/yes/lib/python3.6/site-packages/tornado/gen.py\", line 326, in wrapper\n    yielded = next(result)\n  File \"/home/genki/yes/lib/python3.6/site-packages/ipykernel/kernelbase.py\", line 534, in execute_request\n    user_expressions, allow_stdin,\n  File \"/home/genki/yes/lib/python3.6/site-packages/tornado/gen.py\", line 326, in wrapper\n    yielded = next(result)\n  File \"/home/genki/yes/lib/python3.6/site-packages/ipykernel/ipkernel.py\", line 294, in do_execute\n    res = shell.run_cell(code, store_history=store_history, silent=silent)\n  File \"/home/genki/yes/lib/python3.6/site-packages/ipykernel/zmqshell.py\", line 536, in run_cell\n    return super(ZMQInteractiveShell, self).run_cell(*args, **kwargs)\n  File \"/home/genki/yes/lib/python3.6/site-packages/IPython/core/interactiveshell.py\", line 2819, in run_cell\n    raw_cell, store_history, silent, shell_futures)\n  File \"/home/genki/yes/lib/python3.6/site-packages/IPython/core/interactiveshell.py\", line 2845, in _run_cell\n    return runner(coro)\n  File \"/home/genki/yes/lib/python3.6/site-packages/IPython/core/async_helpers.py\", line 67, in _pseudo_sync_runner\n    coro.send(None)\n  File \"/home/genki/yes/lib/python3.6/site-packages/IPython/core/interactiveshell.py\", line 3020, in run_cell_async\n    interactivity=interactivity, compiler=compiler, result=result)\n  File \"/home/genki/yes/lib/python3.6/site-packages/IPython/core/interactiveshell.py\", line 3185, in run_ast_nodes\n    if (yield from self.run_code(code, result)):\n  File \"/home/genki/yes/lib/python3.6/site-packages/IPython/core/interactiveshell.py\", line 3267, in run_code\n    exec(code_obj, self.user_global_ns, self.user_ns)\n  File \"<ipython-input-63-c877d3b18fdd>\", line 20, in <module>\n    logits = inference(images_placeholder,keep_prob)\n  File \"<ipython-input-4-3ee9635687e4>\", line 27, in inference\n    W_conv2 = weight_variable([5,5,32,64])\n  File \"<ipython-input-4-3ee9635687e4>\", line 5, in weight_variable\n    return tf.Variable(initial)\n  File \"/home/genki/yes/lib/python3.6/site-packages/tensorflow/python/ops/variables.py\", line 183, in __call__\n    return cls._variable_v1_call(*args, **kwargs)\n  File \"/home/genki/yes/lib/python3.6/site-packages/tensorflow/python/ops/variables.py\", line 146, in _variable_v1_call\n    aggregation=aggregation)\n  File \"/home/genki/yes/lib/python3.6/site-packages/tensorflow/python/ops/variables.py\", line 125, in <lambda>\n    previous_getter = lambda **kwargs: default_variable_creator(None, **kwargs)\n  File \"/home/genki/yes/lib/python3.6/site-packages/tensorflow/python/ops/variable_scope.py\", line 2444, in default_variable_creator\n    expected_shape=expected_shape, import_scope=import_scope)\n  File \"/home/genki/yes/lib/python3.6/site-packages/tensorflow/python/ops/variables.py\", line 187, in __call__\n    return super(VariableMetaclass, cls).__call__(*args, **kwargs)\n  File \"/home/genki/yes/lib/python3.6/site-packages/tensorflow/python/ops/variables.py\", line 1329, in __init__\n    constraint=constraint)\n  File \"/home/genki/yes/lib/python3.6/site-packages/tensorflow/python/ops/variables.py\", line 1491, in _init_from_args\n    self._snapshot = array_ops.identity(self._variable, name=\"read\")\n  File \"/home/genki/yes/lib/python3.6/site-packages/tensorflow/python/ops/array_ops.py\", line 81, in identity\n    return gen_array_ops.identity(input, name=name)\n  File \"/home/genki/yes/lib/python3.6/site-packages/tensorflow/python/ops/gen_array_ops.py\", line 3454, in identity\n    \"Identity\", input=input, name=name)\n  File \"/home/genki/yes/lib/python3.6/site-packages/tensorflow/python/framework/op_def_library.py\", line 787, in _apply_op_helper\n    op_def=op_def)\n  File \"/home/genki/yes/lib/python3.6/site-packages/tensorflow/python/util/deprecation.py\", line 488, in new_func\n    return func(*args, **kwargs)\n  File \"/home/genki/yes/lib/python3.6/site-packages/tensorflow/python/framework/ops.py\", line 3274, in create_op\n    op_def=op_def)\n  File \"/home/genki/yes/lib/python3.6/site-packages/tensorflow/python/framework/ops.py\", line 1770, in __init__\n    self._traceback = tf_stack.extract_stack()\n\nFailedPreconditionError (see above for traceback): Attempting to use uninitialized value conv2_423/Variable\n\t [[node conv2_423/Variable/read (defined at <ipython-input-4-3ee9635687e4>:5)  = Identity[T=DT_FLOAT, _device=\"/job:localhost/replica:0/task:0/device:CPU:0\"](conv2_423/Variable)]]\n"
     ]
    }
   ],
   "source": [
    "with tf.Session() as sess:\n",
    "    saver = tf.train.import_meta_graph('../data/model/model.ckpt.meta')\n",
    "    saved_path = '../data/model/model.ckpt'\n",
    "    ckpt = tf.train.get_checkpoint_state('../data/model/')\n",
    "    last_model  = ckpt.model_checkpoint_path\n",
    "    print(\"restoring\")\n",
    "    saver.restore(sess,last_model)\n",
    "    print(\"model restored.\")\n",
    "#     print(\"you'll use these variables\")\n",
    "#     names = [tensor.name for tensor in tf.get_default_graph().as_graph_def().node]\n",
    "#     print(names)\n",
    "    graph = tf.get_default_graph()\n",
    "#     prediction = graph.get_operation_by_name(\"inference\")\n",
    "\n",
    "#     images_placeholder = tf.placeholder(\"float\",shape=(None,IMAGE_PIXELS))\n",
    "#     labels_placeholder = tf.placeholder(\"float\",shape=(None,NUM_CLASSES))\n",
    "#     keep_prob = tf.placeholder(\"float\")\n",
    "    \n",
    "    \n",
    "    logits = inference(images_placeholder,keep_prob)\n",
    "    loss_value = loss(logits,labels_placeholder)\n",
    "    train_op = training(loss_value,learning_rate)\n",
    "    acc = accuracy(logits,labels_placeholder)    \n",
    "#test結果の答えと実際の値を見る\n",
    "# test_imageは実際にデータを取っている。\n",
    "    print(\"test accuracy %g\"%sess.run(acc, feed_dict={\n",
    "        images_placeholder: test_image,\n",
    "        labels_placeholder: test_label,\n",
    "        keep_prob: 1.0}))\n",
    "    \n",
    "    print(test_label[i])\n",
    "    "
   ]
  },
  {
   "cell_type": "code",
   "execution_count": null,
   "metadata": {},
   "outputs": [],
   "source": [
    " for i,val in enumerate(test_image):\n",
    "        result = inference(tmp,1.0)\n",
    "        sess.run(result,feed_dict={images_placeholder:val})\n",
    "        print(test_label[i])\n",
    "        if i == 100:\n",
    "            break"
   ]
  },
  {
   "cell_type": "markdown",
   "metadata": {},
   "source": [
    "### 編集用"
   ]
  },
  {
   "cell_type": "code",
   "execution_count": null,
   "metadata": {},
   "outputs": [],
   "source": []
  }
 ],
 "metadata": {
  "kernelspec": {
   "display_name": "Python 3",
   "language": "python",
   "name": "python3"
  },
  "language_info": {
   "codemirror_mode": {
    "name": "ipython",
    "version": 3
   },
   "file_extension": ".py",
   "mimetype": "text/x-python",
   "name": "python",
   "nbconvert_exporter": "python",
   "pygments_lexer": "ipython3",
   "version": "3.6.6"
  },
  "toc": {
   "base_numbering": 1,
   "nav_menu": {},
   "number_sections": true,
   "sideBar": true,
   "skip_h1_title": false,
   "title_cell": "Table of Contents",
   "title_sidebar": "Contents",
   "toc_cell": false,
   "toc_position": {},
   "toc_section_display": true,
   "toc_window_display": false
  }
 },
 "nbformat": 4,
 "nbformat_minor": 2
}
