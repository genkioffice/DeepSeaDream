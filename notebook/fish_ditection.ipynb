{
 "cells": [
  {
   "cell_type": "code",
   "execution_count": 1,
   "metadata": {},
   "outputs": [],
   "source": [
    "import numpy as np\n",
    "import pandas as pd\n",
    "import matplotlib\n",
    "import matplotlib.pyplot as plt\n",
    "import tensorflow as tf\n",
    "import sys"
   ]
  },
  {
   "cell_type": "code",
   "execution_count": 2,
   "metadata": {},
   "outputs": [
    {
     "name": "stdout",
     "output_type": "stream",
     "text": [
      "config\tdeepseadream  Makefile\tREADME.md\t  scripts\r\n",
      "data\tdocker\t      notebook\trequirements.txt  tests\r\n"
     ]
    }
   ],
   "source": [
    "!ls ../"
   ]
  },
  {
   "cell_type": "code",
   "execution_count": 3,
   "metadata": {},
   "outputs": [],
   "source": [
    "PATH = \"../data/data/train_fish/\"\n",
    "ALB = \"ALB\"\n",
    "BET = \"BET\"\n",
    "DOL = \"DOL\"\n",
    "LAG = \"LAG\"\n",
    "NoF = \"NoF\"\n",
    "OTHER = \"OTHER\"\n",
    "SHARK = \"SHARK\"\n",
    "YFT = \"YFT\""
   ]
  },
  {
   "cell_type": "code",
   "execution_count": 4,
   "metadata": {},
   "outputs": [],
   "source": [
    "import os\n",
    "for path, di, file  in os.walk(PATH):\n",
    "    CLASS = di\n",
    "    break\n",
    "NUM_CLASSES = len(CLASS)\n",
    "IMAGE_SIZE = 256\n",
    "IMAGE_PIXELS = IMAGE_SIZE*IMAGE_SIZE*3\n",
    "learning_rate = 1e-4\n",
    "max_steps = 200\n",
    "BATCH_SIZE = 100"
   ]
  },
  {
   "cell_type": "code",
   "execution_count": 5,
   "metadata": {},
   "outputs": [],
   "source": [
    "# これらコードは、http://kivantium.hateblo.jp/entry/2015/11/18/233834から得られる\n",
    "def inference(images_placeholder,keep_prob):\n",
    "    def weight_variable(shape):\n",
    "        initial = tf.truncated_normal(shape,stddev=0.1)\n",
    "        return tf.Variable(initial)\n",
    "    def bias_variable(shape):\n",
    "        initial = tf.constant(0.1,shape=shape)\n",
    "        return tf.Variable(initial)\n",
    "    def conv2d(x,W):\n",
    "        return tf.nn.conv2d(x,W,[1,1,1,1],padding='SAME')\n",
    "    def max_pool_2x2(x):\n",
    "        return tf.nn.max_pool(x,ksize=[1,2,2,1],strides=[1,2,2,1],padding='SAME')\n",
    "    \n",
    "    \n",
    "\n",
    "\n",
    "    x_image = tf.reshape(images_placeholder,[-1,256,256,3])\n",
    "\n",
    "    \n",
    "\n",
    "    with tf.name_scope('conv1') as scope:\n",
    "        W_conv1 = weight_variable([5,5,3,32])\n",
    "#         W_conv1 = weight_variable([5,5,1,32])\n",
    "        b_conv1 = bias_variable([32])\n",
    "        h_conv1 = tf.nn.relu(conv2d(x_image,W_conv1) + b_conv1)\n",
    "\n",
    "    with tf.name_scope('pool1') as scope:\n",
    "        h_pool1 = max_pool_2x2(h_conv1)\n",
    "        \n",
    "#         h_pool1 = tf.reduce_max(h_conv1,reduction_indices=[3],keep_dims=True)\n",
    "\n",
    "    with tf.name_scope('conv2') as scope:\n",
    "        W_conv2 = weight_variable([5,5,32,64])\n",
    "        b_conv2 = bias_variable([64])\n",
    "        h_conv2 = tf.nn.relu(conv2d(h_pool1,W_conv2) + b_conv2)\n",
    "        # h_conv2 has (?,128, 128, 64) shape\n",
    "    with tf.name_scope('pool2') as scope:\n",
    "        h_pool2 = max_pool_2x2(h_conv2)\n",
    "        # h_pool2 has (?, 64, 64, 64) shape\n",
    "    #全結合\n",
    "    with tf.name_scope('zenketsu1') as scope:\n",
    "        W_fc1 = weight_variable([64*64*64,1024])\n",
    "#         W_fc1 = weight_variable([5*5*32,1024])\n",
    "        b_fc1 = bias_variable([1024])\n",
    "#         h_pool2_flat = tf.reshape(h_pool2,[-1,7*7*64]) #3136 defined here\n",
    "        h_pool2_flat = tf.reshape(h_pool2,[-1,64*64*64]) #3136 defined here\n",
    "        \n",
    "        # h_pool2_flatは二回poolされているから4で割った値を取るのか？この場合256/4\n",
    "        \n",
    "        h_fc1 = tf.nn.relu(tf.matmul(h_pool2_flat,W_fc1) + b_fc1)\n",
    "        #dropout\n",
    "        h_fc1_drop = tf.nn.dropout(h_fc1,keep_prob)\n",
    "        \n",
    "    with tf.name_scope('zenketsu2') as scope:\n",
    "        W_fc2 = weight_variable([1024,NUM_CLASSES])\n",
    "        b_fc2 = bias_variable([NUM_CLASSES])\n",
    "    \n",
    "    with tf.name_scope('softmax') as scope:\n",
    "        y_conv = tf.nn.softmax(tf.matmul(h_fc1_drop,W_fc2) + b_fc2)\n",
    "    \n",
    "    return y_conv"
   ]
  },
  {
   "cell_type": "code",
   "execution_count": 6,
   "metadata": {},
   "outputs": [],
   "source": [
    "def loss(logits,labels):\n",
    "    cross_entropy = -tf.reduce_sum(labels*tf.log(logits))\n",
    "#     tf.scalar_summary(\"cross_entropy\",cross_entropy)\n",
    "    return cross_entropy"
   ]
  },
  {
   "cell_type": "code",
   "execution_count": 7,
   "metadata": {},
   "outputs": [],
   "source": [
    "def training(loss,learning_rate):\n",
    "    train_step = tf.train.AdadeltaOptimizer(learning_rate).minimize(loss)\n",
    "    return train_step"
   ]
  },
  {
   "cell_type": "code",
   "execution_count": 8,
   "metadata": {},
   "outputs": [],
   "source": [
    "# file load\n",
    "def load_files(path):\n",
    "    data = []\n",
    "    save_pa = []\n",
    "    for pa,_,_ in os.walk(path):\n",
    "        if pa =='../data/data/train_fish/':\n",
    "            continue\n",
    "        save_pa.append(pa)\n",
    "    for i_c, cat in enumerate(save_pa):\n",
    "        for _,_,files in os.walk(cat):\n",
    "            for file in files:\n",
    "                label = np.zeros(8)\n",
    "                label[i_c] = 1\n",
    "                filepath = os.path.join(cat,file)\n",
    "                data.append([filepath,label])\n",
    "    return data\n",
    "DATA = load_files(PATH)\n",
    "import csv\n",
    "with open(\"../data/meta.csv\",'w') as f:\n",
    "    writer = csv.writer(f,lineterminator='\\n')\n",
    "    writer.writerow(DATA)"
   ]
  },
  {
   "cell_type": "code",
   "execution_count": 9,
   "metadata": {
    "scrolled": true
   },
   "outputs": [
    {
     "data": {
      "text/plain": [
       "['../data/data/train_fish/NoF/img_04395.jpg',\n",
       " array([1., 0., 0., 0., 0., 0., 0., 0.])]"
      ]
     },
     "execution_count": 9,
     "metadata": {},
     "output_type": "execute_result"
    }
   ],
   "source": [
    "DATA[0]"
   ]
  },
  {
   "cell_type": "code",
   "execution_count": 10,
   "metadata": {},
   "outputs": [
    {
     "data": {
      "text/plain": [
       "3777"
      ]
     },
     "execution_count": 10,
     "metadata": {},
     "output_type": "execute_result"
    }
   ],
   "source": [
    "len(DATA)"
   ]
  },
  {
   "cell_type": "code",
   "execution_count": 11,
   "metadata": {},
   "outputs": [],
   "source": [
    "# DATA = [(d[1],d[0]) for d in DATA]\n",
    "import random\n",
    "random.shuffle(DATA)\n",
    "num_train = int(len(DATA) * 0.8)\n",
    "train = DATA[:num_train]\n",
    "test = DATA[num_train:]"
   ]
  },
  {
   "cell_type": "code",
   "execution_count": 12,
   "metadata": {},
   "outputs": [],
   "source": [
    "def train_batch(data_list):\n",
    "    labels,paths = [],[]\n",
    "    for data in data_list:\n",
    "        labels.append(data[0])\n",
    "        paths.append(data[1])\n",
    "    queue = tf.train.slice_input_producer([labels,paths])\n",
    "    label = queue[0]\n",
    "\n",
    "\n",
    "    jpeg = tf.read_file(queue[1])\n",
    "    image = tf.image.decode_jpeg(jpeg,channels=3)\n",
    "    image = tf.image.resize_images(image,[256,256])\n",
    "\n",
    "    image = tf.image.per_image_standardization(image)\n",
    "\n",
    "    return tf.train.shuffle_batch([image,label],batch_size=32,\n",
    "                                  capacity = len(data_list) * 2 + 3* 32,\n",
    "                                 min_after_dequeue = len(data_list) *2)"
   ]
  },
  {
   "cell_type": "code",
   "execution_count": 13,
   "metadata": {},
   "outputs": [],
   "source": [
    "def test_batch(data_list):\n",
    "    labels,paths = [],[]\n",
    "    for data in data_list:\n",
    "        labels.append(data[0])\n",
    "        paths.append(data[1])\n",
    "    queue = tf.train.slice_input_producer([labels,paths])\n",
    "    label = queue[0]\n",
    "    jpeg = tf.read_file(queue[1])\n",
    "    image = tf.image.decode_jpeg(jpeg,channels=3)\n",
    "    image = tf.image.resize_images(image,[256,256])\n",
    "\n",
    "    image = tf.image.per_image_standardization(image)\n",
    "\n",
    "    return tf.train.batch([image,label],len(data_list))"
   ]
  },
  {
   "cell_type": "code",
   "execution_count": 14,
   "metadata": {},
   "outputs": [],
   "source": [
    "def accuracy(logits,labels):\n",
    "    correct_prediction = tf.equal(tf.argmax(logits,1),tf.argmax(labels,1))\n",
    "    accuracy = tf.reduce_mean(tf.cast(correct_prediction,\"float\"))\n",
    "    return accuracy\n",
    "def split_image_and_label(data_list,LESS=False):\n",
    "    '''\n",
    "    data_list should be [[data,label]...]\n",
    "    '''\n",
    "    data = []\n",
    "    labels = []\n",
    "    if LESS:\n",
    "        i=0\n",
    "        for value,label in data_list:\n",
    "            i+=1\n",
    "            data.append(value)\n",
    "            labels.append(label)\n",
    "            if i == 1000:\n",
    "                break\n",
    "        return data,labels\n",
    "    else:\n",
    "        for value,label in data_list:\n",
    "            data.append(value)\n",
    "            labels.append(label)\n",
    "        return data, labels"
   ]
  },
  {
   "cell_type": "code",
   "execution_count": 15,
   "metadata": {},
   "outputs": [],
   "source": [
    "# 以下のセルにあるtrain, testは実データなので、読み込みが必要。\n",
    "def convert_image_path_to_data(path):\n",
    "    jpeg_r = tf.read_file(path)\n",
    "    image = tf.image.decode_jpeg(jpeg_r,channels=3)\n",
    "    image = tf.image.resize_images(image,[256,256])\n",
    "    image = tf.image.per_image_standardization(image)\n",
    "\n",
    "    return image\n"
   ]
  },
  {
   "cell_type": "code",
   "execution_count": 16,
   "metadata": {},
   "outputs": [],
   "source": [
    "# opnecvによる読み込み\n",
    "import cv2 \n",
    "def convert_image_path_to_data_cv2(path,i):\n",
    "    try:\n",
    "#         img2 = cv2.imread(path,0) # 白黒画像で読み込み\n",
    "        img2 = cv2.imread(path)\n",
    "\n",
    "        img2 = cv2.resize(img2,dsize=(256,256),interpolation = cv2.INTER_CUBIC)\n",
    "        np_image_data = np.asarray(img2)\n",
    "        np_final = np.expand_dims(np_image_data,axis=0)\n",
    "        np_final = flatten(np_final)\n",
    "        if i % 1000 == 0:\n",
    "            print(i)\n",
    "        #1000 images / 15s\n",
    "        return np_final\n",
    "    except:\n",
    "        print(path)\n",
    "        print(i)\n",
    "        return np.zeros([256,256])"
   ]
  },
  {
   "cell_type": "code",
   "execution_count": 17,
   "metadata": {},
   "outputs": [],
   "source": [
    "def flatten(image):\n",
    "    image = image.flatten().astype(np.float32)/255.0\n",
    "    return image"
   ]
  },
  {
   "cell_type": "code",
   "execution_count": 18,
   "metadata": {},
   "outputs": [
    {
     "name": "stdout",
     "output_type": "stream",
     "text": [
      "196608\n"
     ]
    }
   ],
   "source": [
    "print(IMAGE_PIXELS)"
   ]
  },
  {
   "cell_type": "code",
   "execution_count": 20,
   "metadata": {
    "scrolled": true
   },
   "outputs": [
    {
     "ename": "NameError",
     "evalue": "name 'train_image' is not defined",
     "output_type": "error",
     "traceback": [
      "\u001b[0;31m---------------------------------------------------------------------------\u001b[0m",
      "\u001b[0;31mNameError\u001b[0m                                 Traceback (most recent call last)",
      "\u001b[0;32m<ipython-input-20-1d1e120b5f73>\u001b[0m in \u001b[0;36m<module>\u001b[0;34m\u001b[0m\n\u001b[0;32m----> 1\u001b[0;31m \u001b[0mlen\u001b[0m\u001b[0;34m(\u001b[0m\u001b[0mtrain_image\u001b[0m\u001b[0;34m)\u001b[0m\u001b[0;34m\u001b[0m\u001b[0m\n\u001b[0m",
      "\u001b[0;31mNameError\u001b[0m: name 'train_image' is not defined"
     ]
    }
   ],
   "source": [
    "len(train_image)"
   ]
  },
  {
   "cell_type": "code",
   "execution_count": 21,
   "metadata": {},
   "outputs": [
    {
     "data": {
      "text/plain": [
       "['../data/data/train_fish/ALB/img_05902.jpg',\n",
       " array([0., 0., 1., 0., 0., 0., 0., 0.])]"
      ]
     },
     "execution_count": 21,
     "metadata": {},
     "output_type": "execute_result"
    }
   ],
   "source": [
    "train[10]"
   ]
  },
  {
   "cell_type": "code",
   "execution_count": null,
   "metadata": {
    "scrolled": false
   },
   "outputs": [
    {
     "name": "stdout",
     "output_type": "stream",
     "text": [
      "3021\n",
      "756\n",
      "0\n",
      "1000\n",
      "2000\n",
      "3000\n",
      "0\n",
      "success converting\n",
      "WARNING:tensorflow:From /home/genki/yes/lib/python3.6/site-packages/tensorflow/python/util/tf_should_use.py:189: initialize_all_variables (from tensorflow.python.ops.variables) is deprecated and will be removed after 2017-03-02.\n",
      "Instructions for updating:\n",
      "Use `tf.global_variables_initializer` instead.\n"
     ]
    }
   ],
   "source": [
    "with tf.Graph().as_default():\n",
    "    images_placeholder = tf.placeholder(\"float\",shape=(None,IMAGE_PIXELS))\n",
    "    labels_placeholder = tf.placeholder(\"float\",shape=(None,NUM_CLASSES))\n",
    "    keep_prob = tf.placeholder(\"float\")\n",
    "    \n",
    "    logits = inference(images_placeholder,keep_prob)\n",
    "    loss_value = loss(logits,labels_placeholder)\n",
    "    train_op = training(loss_value,learning_rate)\n",
    "    acc = accuracy(logits,labels_placeholder)\n",
    "\n",
    "    #for debugging True\n",
    "    train_image, train_label = split_image_and_label(train,False)\n",
    "    test_image,test_label = split_image_and_label(test,False) \n",
    "    print(len(train_image))\n",
    "    print(len(test_image))\n",
    "    \n",
    "    train_image = [convert_image_path_to_data_cv2(path,i) for i,path in enumerate(train_image)]\n",
    "    test_image = [convert_image_path_to_data_cv2(path,i) for i,path in enumerate(test_image)]\n",
    "    #takes 20 mins\n",
    "    print(\"success converting\")\n",
    "    \n",
    "    \n",
    "    # 保存の準備\n",
    "    saver = tf.train.Saver()\n",
    "    # Sessionの作成\n",
    "    sess = tf.Session()\n",
    "    # 変数の初期化\n",
    "    sess.run(tf.initialize_all_variables())\n",
    "\n",
    "    # TensorBoardで表示する値の設定\n",
    "#     summary_op = tf.merge_all_summaries()\n",
    "#     summary_writer = tf.train.SummaryWriter(FLAGS.train_dir, sess.graph_def)\n",
    "\n",
    "    # 訓練の実行\n",
    "    for step in range(max_steps):\n",
    "        for i in range(int(len(train_image)/BATCH_SIZE)):\n",
    "            # batch_size分の画像に対して訓練の実行\n",
    "            batch = BATCH_SIZE*i\n",
    "            # feed_dictでplaceholderに入れるデータを指定する\n",
    "            sess.run(train_op, feed_dict={\n",
    "              images_placeholder: train_image[batch:batch+BATCH_SIZE],\n",
    "              labels_placeholder: train_label[batch:batch+BATCH_SIZE],\n",
    "              keep_prob: 0.5})\n",
    "\n",
    "        # 1 step終わるたびに精度を計算する\n",
    "        train_accuracy = sess.run(acc, feed_dict={\n",
    "            images_placeholder: train_image,\n",
    "            labels_placeholder: train_label,\n",
    "            keep_prob: 1.0})\n",
    "        print(\"step %d, training accuracy %g\"%(step, train_accuracy))\n",
    "\n",
    "#         # 1 step終わるたびにTensorBoardに表示する値を追加する\n",
    "#         summary_str = sess.run(summary_op, feed_dict={\n",
    "#             images_placeholder: train_image,\n",
    "#             labels_placeholder: train_label,\n",
    "#             keep_prob: 1.0})\n",
    "#         summary_writer.add_summary(summary_str, step)\n",
    "\n",
    "# 訓練が終了したらテストデータに対する精度を表示\n",
    "print(\"test accuracy %g\"%sess.run(acc, feed_dict={\n",
    "    images_placeholder: test_image,\n",
    "    labels_placeholder: test_label,\n",
    "    keep_prob: 1.0}))\n",
    "\n",
    "# 最終的なモデルを保存\n",
    "save_path = saver.save(sess, \"model.ckpt\")"
   ]
  },
  {
   "cell_type": "code",
   "execution_count": null,
   "metadata": {},
   "outputs": [],
   "source": []
  }
 ],
 "metadata": {
  "kernelspec": {
   "display_name": "Python 3",
   "language": "python",
   "name": "python3"
  },
  "language_info": {
   "codemirror_mode": {
    "name": "ipython",
    "version": 3
   },
   "file_extension": ".py",
   "mimetype": "text/x-python",
   "name": "python",
   "nbconvert_exporter": "python",
   "pygments_lexer": "ipython3",
   "version": "3.6.6"
  },
  "toc": {
   "base_numbering": 1,
   "nav_menu": {},
   "number_sections": true,
   "sideBar": true,
   "skip_h1_title": false,
   "title_cell": "Table of Contents",
   "title_sidebar": "Contents",
   "toc_cell": false,
   "toc_position": {},
   "toc_section_display": true,
   "toc_window_display": false
  }
 },
 "nbformat": 4,
 "nbformat_minor": 2
}
