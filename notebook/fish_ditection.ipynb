{
 "cells": [
  {
   "cell_type": "code",
   "execution_count": 1,
   "metadata": {},
   "outputs": [],
   "source": [
    "import numpy as np\n",
    "import pandas as pd\n",
    "import matplotlib\n",
    "import matplotlib.pyplot as plt\n",
    "import tensorflow as tf\n",
    "import sys"
   ]
  },
  {
   "cell_type": "code",
   "execution_count": 2,
   "metadata": {},
   "outputs": [
    {
     "name": "stdout",
     "output_type": "stream",
     "text": [
      "Makefile         \u001b[1m\u001b[36mcrawl\u001b[m\u001b[m            \u001b[1m\u001b[36mdocker\u001b[m\u001b[m           requirements.txt\r\n",
      "README.md        \u001b[1m\u001b[36mdata\u001b[m\u001b[m             \u001b[1m\u001b[36mmodel\u001b[m\u001b[m            \u001b[1m\u001b[36mscripts\u001b[m\u001b[m\r\n",
      "\u001b[1m\u001b[36mconfig\u001b[m\u001b[m           \u001b[1m\u001b[36mdeepseadream\u001b[m\u001b[m     \u001b[1m\u001b[36mnotebook\u001b[m\u001b[m         \u001b[1m\u001b[36mtests\u001b[m\u001b[m\r\n"
     ]
    }
   ],
   "source": [
    "!ls ../"
   ]
  },
  {
   "cell_type": "code",
   "execution_count": 2,
   "metadata": {},
   "outputs": [],
   "source": [
    "PATH = \"../data/train_fish/\"\n",
    "ALB = \"ALB\"\n",
    "BET = \"BET\"\n",
    "DOL = \"DOL\"\n",
    "LAG = \"LAG\"\n",
    "NoF = \"NoF\"\n",
    "OTHER = \"OTHER\"\n",
    "SHARK = \"SHARK\"\n",
    "YFT = \"YFT\""
   ]
  },
  {
   "cell_type": "code",
   "execution_count": 3,
   "metadata": {},
   "outputs": [],
   "source": [
    "import os\n",
    "for path, di, file  in os.walk(PATH):\n",
    "    CLASS = di\n",
    "    break\n",
    "NUM_CLASSES = len(CLASS)\n",
    "IMAGE_SIZE = 256\n",
    "IMAGE_PIXELS = IMAGE_SIZE*IMAGE_SIZE*3\n",
    "learning_rate = 1e-4\n",
    "max_steps = 200\n",
    "BATCH_SIZE = 100"
   ]
  },
  {
   "cell_type": "code",
   "execution_count": null,
   "metadata": {},
   "outputs": [],
   "source": [
    "# def inference(inputs,reuse=False):\n",
    "#     reshaped = tf.reshape(inputs,[inputs.get_shape()[0].value,-1])\n",
    "    \n",
    "#     with"
   ]
  },
  {
   "cell_type": "code",
   "execution_count": 4,
   "metadata": {},
   "outputs": [],
   "source": [
    "# これらコードは、http://kivantium.hateblo.jp/entry/2015/11/18/233834から得られる\n",
    "def inference(images_placeholder,keep_prob):\n",
    "    def weight_variable(shape):\n",
    "        initial = tf.truncated_normal(shape,stddev=0.1)\n",
    "        return tf.Variable(initial)\n",
    "    def bias_variable(shape):\n",
    "        initial = tf.constant(0.1,shape=shape)\n",
    "        return tf.Variable(initial)\n",
    "    def conv2d(x,W):\n",
    "        return tf.nn.conv2d(x,W,[1,1,1,1],padding='SAME')\n",
    "    x_image = tf.reshape(images_placeholder,[-1,28,28,3])\n",
    "    with tf.name_scope('conv1') as scope:\n",
    "        W_conv1 = weight_variable([5,5,3,32])\n",
    "        b_conv1 = bias_variable([32])\n",
    "        h_conv1 = tf.nn.relu(conv2d(x_image,W_conv1) + b_conv1)\n",
    "\n",
    "    with tf.name_scope('conv2') as scope:\n",
    "        W_conv2 = weight_variable([5,5,32,64])\n",
    "        b_conv2 = bias_variable([64])\n",
    "        h_conv2 = tf.nn.relu(conv2d(h_conv1,W_conv2) + b_conv2)\n",
    "\n",
    "\n",
    "    \n",
    "    #全結合\n",
    "    with tf.name_scope('zenketsu1') as scope:\n",
    "        W_fc1 = weight_variable([7*7*64,1024])\n",
    "        b_fc1 = bias_variable([1024])\n",
    "        h_pool2_flat = tf.reshape(h_conv2,[-1,7*7*64])\n",
    "        h_fc1 = tf.nn.relu(tf.matmul(h_pool2_flat,W_fc1) + b_fc1)\n",
    "        #dropout\n",
    "        h_fc1_drop = tf.nn.dropout(h_fc1,keep_prob)\n",
    "        \n",
    "    with tf.name_scope('zenketsu2') as scope:\n",
    "        W_fc2 = weight_variable([1024,NUM_CLASSES])\n",
    "        b_fc2 = bias_variable([NUM_CLASSES])\n",
    "    \n",
    "    with tf.name_scope('softmax') as scope:\n",
    "        y_conv = tf.nn.softmax(tf.matmul(h_fc1_drop,W_fc2) + b_fc2)\n",
    "    \n",
    "    return y_conv"
   ]
  },
  {
   "cell_type": "code",
   "execution_count": 5,
   "metadata": {},
   "outputs": [],
   "source": [
    "def loss(logits,labels):\n",
    "    cross_entropy = -tf.reduce_sum(labels*tf.log(logits))\n",
    "#     tf.scalar_summary(\"cross_entropy\",cross_entropy)\n",
    "    return cross_entropy"
   ]
  },
  {
   "cell_type": "code",
   "execution_count": 6,
   "metadata": {},
   "outputs": [],
   "source": [
    "def training(loss,learning_rate):\n",
    "    train_step = tf.train.AdadeltaOptimizer(learning_rate).minimize(loss)\n",
    "    return train_step"
   ]
  },
  {
   "cell_type": "code",
   "execution_count": 7,
   "metadata": {},
   "outputs": [],
   "source": [
    "# file load\n",
    "def load_files(path):\n",
    "    data = []\n",
    "    for pa,cl,files in os.walk(path):\n",
    "        for n_c, p in enumerate(pa):\n",
    "            for file in files:\n",
    "                filepath = os.path.join(pa,file)\n",
    "                data.append([filepath,n_c])\n",
    "    return data\n",
    "DATA = load_files(PATH)\n",
    "import csv\n",
    "with open(\"../data/meta.csv\",'w') as f:\n",
    "    writer = csv.writer(f,lineterminator='\\n')\n",
    "    writer.writerow(DATA)"
   ]
  },
  {
   "cell_type": "code",
   "execution_count": 16,
   "metadata": {},
   "outputs": [],
   "source": [
    "# DATA = [(d[1],d[0]) for d in DATA]\n",
    "import random\n",
    "random.shuffle(DATA)\n",
    "num_train = int(len(DATA) * 0.8)\n",
    "train = DATA[:num_train]\n",
    "test = DATA[num_train:]\n",
    "# for d in DATA:\n",
    "#     jpeg_r = tf.read_file(d[0])\n",
    "#     image = tf.image.decode_jpeg(jpeg_r,channels=3)\n",
    "#     image = tf.image.resize_images(image,[256,256])\n",
    "#     image = tf.image.per_image_standardization(image)\n",
    "    \n",
    "#     label = tf.one_hot()\n",
    "\n",
    "# def load_data(csvpath,batch_size,image_size,class_count,shuffle=False,min_after_dequeue=1000):\n",
    "#     queue = tf.train.string_input_producer([csvpath],shuffle=shuffle)\n",
    "#     reader = tf.TextLineReader()\n",
    "#     key,value = reader.read(queue)\n",
    "#     imagepath, label = tf.decode_csv(value[['imagepath'],[0]])"
   ]
  },
  {
   "cell_type": "code",
   "execution_count": 9,
   "metadata": {},
   "outputs": [],
   "source": [
    "def train_batch(data_list):\n",
    "    labels,paths = [],[]\n",
    "    for data in data_list:\n",
    "        labels.append(data[0])\n",
    "        paths.append(data[1])\n",
    "    queue = tf.train.slice_input_producer([labels,paths])\n",
    "    label = queue[0]\n",
    "\n",
    "\n",
    "    jpeg = tf.read_file(queue[1])\n",
    "    image = tf.image.decode_jpeg(jpeg,channels=3)\n",
    "    image = tf.image.resize_images(image,[256,256])\n",
    "\n",
    "    image = tf.image.per_image_standardization(image)\n",
    "\n",
    "    return tf.train.shuffle_batch([image,label],batch_size=32,\n",
    "                                  capacity = len(data_list) * 2 + 3* 32,\n",
    "                                 min_after_dequeue = len(data_list) *2)"
   ]
  },
  {
   "cell_type": "code",
   "execution_count": 10,
   "metadata": {},
   "outputs": [],
   "source": [
    "def test_batch(data_list):\n",
    "    labels,paths = [],[]\n",
    "    for data in data_list:\n",
    "        labels.append(data[0])\n",
    "        paths.append(data[1])\n",
    "    queue = tf.train.slice_input_producer([labels,paths])\n",
    "    label = queue[0]\n",
    "    jpeg = tf.read_file(queue[1])\n",
    "    image = tf.image.decode_jpeg(jpeg,channels=3)\n",
    "    image = tf.image.resize_images(image,[256,256])\n",
    "\n",
    "    image = tf.image.per_image_standardization(image)\n",
    "\n",
    "    return tf.train.batch([image,label],len(data_list))"
   ]
  },
  {
   "cell_type": "code",
   "execution_count": 11,
   "metadata": {},
   "outputs": [],
   "source": [
    "def accuracy(logits,labels):\n",
    "    correct_prediction = tf.equal(tf.argmax(logits,1),tf.argmax(labels,1))\n",
    "    accuracy = tf.reduce_mean(tf.cast(correct_prediction,\"float\"))\n",
    "    return accuracy\n",
    "def split_image_and_label(data_list):\n",
    "    '''\n",
    "    data_list should be [[data,label]...]\n",
    "    '''\n",
    "    data = []\n",
    "    labels = []\n",
    "    for value,label in data_list:\n",
    "        data.append(value)\n",
    "        labels.append(label)\n",
    "    return data, labels"
   ]
  },
  {
   "cell_type": "code",
   "execution_count": 12,
   "metadata": {},
   "outputs": [],
   "source": [
    "# 以下のセルにあるtrain, testは実データなので、読み込みが必要。\n",
    "def convert_image_path_to_data(path):\n",
    "    jpeg_r = tf.read_file(path)\n",
    "    image = tf.image.decode_jpeg(jpeg_r,channels=3)\n",
    "    image = tf.image.resize_images(image,[256,256])\n",
    "    image = tf.image.per_image_standardization(image)\n",
    "\n",
    "    return image\n"
   ]
  },
  {
   "cell_type": "code",
   "execution_count": null,
   "metadata": {},
   "outputs": [],
   "source": [
    "with tf.Graph().as_default():\n",
    "    images_placeholder = tf.placeholder(\"float\",shape=(None,IMAGE_PIXELS))\n",
    "    labels_placeholder = tf.placeholder(\"float\",shape=(None,NUM_CLASSES))\n",
    "    keep_prob = tf.placeholder(\"float\")\n",
    "    \n",
    "    logits = inference(images_placeholder,keep_prob)\n",
    "    loss_value = loss(logits,labels_placeholder)\n",
    "    train_op = training(loss_value,learning_rate)\n",
    "    acc = accuracy(logits,labels_placeholder)\n",
    "\n",
    "    train_image, train_label = split_image_and_label(train)\n",
    "    test_image,test_label = split_image_and_label(test)\n",
    "    \n",
    "    train_image = [convert_image_path_to_data(path) for path in train_image]\n",
    "    test_image = [convert_image_path_to_data(path) for path in test_image]\n",
    "    print(\"success converting\")\n",
    "    # 保存の準備\n",
    "    saver = tf.train.Saver()\n",
    "    # Sessionの作成\n",
    "    sess = tf.Session()\n",
    "    # 変数の初期化\n",
    "    sess.run(tf.initialize_all_variables())\n",
    "    # TensorBoardで表示する値の設定\n",
    "#     summary_op = tf.merge_all_summaries()\n",
    "#     summary_writer = tf.train.SummaryWriter(FLAGS.train_dir, sess.graph_def)\n",
    "    print\n",
    "    # 訓練の実行\n",
    "    for step in range(max_steps):\n",
    "        for i in range(int(len(train_image)/BATCH_SIZE)):\n",
    "            # batch_size分の画像に対して訓練の実行\n",
    "            batch = BATCH_SIZE*i\n",
    "            # feed_dictでplaceholderに入れるデータを指定する\n",
    "            sess.run(train_op, feed_dict={\n",
    "              images_placeholder: train_image[batch:batch+BATCH_SIZE],\n",
    "              labels_placeholder: train_label[batch:batch+BATCH_SIZE],\n",
    "              keep_prob: 0.5})\n",
    "\n",
    "        # 1 step終わるたびに精度を計算する\n",
    "        train_accuracy = sess.run(acc, feed_dict={\n",
    "            images_placeholder: train_image,\n",
    "            labels_placeholder: train_label,\n",
    "            keep_prob: 1.0})\n",
    "        print(\"step %d, training accuracy %g\"%(step, train_accuracy))\n",
    "\n",
    "        # 1 step終わるたびにTensorBoardに表示する値を追加する\n",
    "        summary_str = sess.run(summary_op, feed_dict={\n",
    "            images_placeholder: train_image,\n",
    "            labels_placeholder: train_label,\n",
    "            keep_prob: 1.0})\n",
    "        summary_writer.add_summary(summary_str, step)\n",
    "\n",
    "# 訓練が終了したらテストデータに対する精度を表示\n",
    "print(\"test accuracy %g\"%sess.run(acc, feed_dict={\n",
    "    images_placeholder: test_image,\n",
    "    labels_placeholder: test_label,\n",
    "    keep_prob: 1.0}))\n",
    "\n",
    "# 最終的なモデルを保存\n",
    "save_path = saver.save(sess, \"model.ckpt\")"
   ]
  },
  {
   "cell_type": "code",
   "execution_count": 13,
   "metadata": {},
   "outputs": [
    {
     "data": {
      "text/plain": [
       "(0, '../data/train_fish/YFT/img_01380.jpg')"
      ]
     },
     "execution_count": 13,
     "metadata": {},
     "output_type": "execute_result"
    }
   ],
   "source": [
    "train[10]"
   ]
  },
  {
   "cell_type": "code",
   "execution_count": 14,
   "metadata": {},
   "outputs": [],
   "source": []
  },
  {
   "cell_type": "code",
   "execution_count": null,
   "metadata": {},
   "outputs": [],
   "source": []
  }
 ],
 "metadata": {
  "kernelspec": {
   "display_name": "Python 3",
   "language": "python",
   "name": "python3"
  },
  "language_info": {
   "codemirror_mode": {
    "name": "ipython",
    "version": 3
   },
   "file_extension": ".py",
   "mimetype": "text/x-python",
   "name": "python",
   "nbconvert_exporter": "python",
   "pygments_lexer": "ipython3",
   "version": "3.5.6"
  },
  "toc": {
   "base_numbering": 1,
   "nav_menu": {},
   "number_sections": true,
   "sideBar": true,
   "skip_h1_title": false,
   "title_cell": "Table of Contents",
   "title_sidebar": "Contents",
   "toc_cell": false,
   "toc_position": {},
   "toc_section_display": true,
   "toc_window_display": false
  }
 },
 "nbformat": 4,
 "nbformat_minor": 2
}
